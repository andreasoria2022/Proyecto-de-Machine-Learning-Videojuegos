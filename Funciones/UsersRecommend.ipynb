{
 "cells": [
  {
   "cell_type": "markdown",
   "metadata": {},
   "source": [
    "Crearé una función UserRecommend (año) que devuelve el top 3 de los juegos mas recomendados por usuarios para el año dado."
   ]
  },
  {
   "cell_type": "markdown",
   "metadata": {},
   "source": [
    "Importaré las librerias necesarias"
   ]
  },
  {
   "cell_type": "code",
   "execution_count": 2,
   "metadata": {},
   "outputs": [],
   "source": [
    "import pandas as pd"
   ]
  },
  {
   "cell_type": "markdown",
   "metadata": {},
   "source": [
    "Voy a crear un dataset a partir del csv\n"
   ]
  },
  {
   "cell_type": "code",
   "execution_count": 3,
   "metadata": {},
   "outputs": [
    {
     "name": "stderr",
     "output_type": "stream",
     "text": [
      "C:\\Users\\MI PC\\AppData\\Local\\Temp\\ipykernel_692\\141174834.py:1: DtypeWarning: Columns (5) have mixed types. Specify dtype option on import or set low_memory=False.\n",
      "  df_review = pd.read_csv('../Data/reviews.csv')\n"
     ]
    }
   ],
   "source": [
    "df_review = pd.read_csv('../Data/reviews.csv')"
   ]
  },
  {
   "cell_type": "code",
   "execution_count": 4,
   "metadata": {},
   "outputs": [
    {
     "data": {
      "text/html": [
       "<div>\n",
       "<style scoped>\n",
       "    .dataframe tbody tr th:only-of-type {\n",
       "        vertical-align: middle;\n",
       "    }\n",
       "\n",
       "    .dataframe tbody tr th {\n",
       "        vertical-align: top;\n",
       "    }\n",
       "\n",
       "    .dataframe thead th {\n",
       "        text-align: right;\n",
       "    }\n",
       "</style>\n",
       "<table border=\"1\" class=\"dataframe\">\n",
       "  <thead>\n",
       "    <tr style=\"text-align: right;\">\n",
       "      <th></th>\n",
       "      <th>user_id</th>\n",
       "      <th>user_url</th>\n",
       "      <th>posted</th>\n",
       "      <th>item_id</th>\n",
       "      <th>helpful</th>\n",
       "      <th>recommend</th>\n",
       "      <th>review1</th>\n",
       "      <th>user_review</th>\n",
       "    </tr>\n",
       "  </thead>\n",
       "  <tbody>\n",
       "    <tr>\n",
       "      <th>0</th>\n",
       "      <td>76561197970982479</td>\n",
       "      <td>http://steamcommunity.com/profiles/76561197970...</td>\n",
       "      <td>Posted November 5, 2011.</td>\n",
       "      <td>1250.0</td>\n",
       "      <td>['No ratings yet', 'No ratings yet', 'No ratin...</td>\n",
       "      <td>True</td>\n",
       "      <td>['simple yet with great replayability. in my o...</td>\n",
       "      <td>2</td>\n",
       "    </tr>\n",
       "    <tr>\n",
       "      <th>1</th>\n",
       "      <td>76561197970982479</td>\n",
       "      <td>http://steamcommunity.com/profiles/76561197970...</td>\n",
       "      <td>Posted November 5, 2011.</td>\n",
       "      <td>1250.0</td>\n",
       "      <td>['No ratings yet', 'No ratings yet', 'No ratin...</td>\n",
       "      <td>True</td>\n",
       "      <td>['simple yet with great replayability. in my o...</td>\n",
       "      <td>2</td>\n",
       "    </tr>\n",
       "    <tr>\n",
       "      <th>2</th>\n",
       "      <td>76561197970982479</td>\n",
       "      <td>http://steamcommunity.com/profiles/76561197970...</td>\n",
       "      <td>Posted November 5, 2011.</td>\n",
       "      <td>1250.0</td>\n",
       "      <td>['No ratings yet', 'No ratings yet', 'No ratin...</td>\n",
       "      <td>True</td>\n",
       "      <td>['simple yet with great replayability. in my o...</td>\n",
       "      <td>2</td>\n",
       "    </tr>\n",
       "    <tr>\n",
       "      <th>3</th>\n",
       "      <td>76561197970982479</td>\n",
       "      <td>http://steamcommunity.com/profiles/76561197970...</td>\n",
       "      <td>Posted July 15, 2011.</td>\n",
       "      <td>1250.0</td>\n",
       "      <td>['No ratings yet', 'No ratings yet', 'No ratin...</td>\n",
       "      <td>True</td>\n",
       "      <td>['simple yet with great replayability. in my o...</td>\n",
       "      <td>2</td>\n",
       "    </tr>\n",
       "    <tr>\n",
       "      <th>4</th>\n",
       "      <td>76561197970982479</td>\n",
       "      <td>http://steamcommunity.com/profiles/76561197970...</td>\n",
       "      <td>Posted July 15, 2011.</td>\n",
       "      <td>1250.0</td>\n",
       "      <td>['No ratings yet', 'No ratings yet', 'No ratin...</td>\n",
       "      <td>True</td>\n",
       "      <td>['simple yet with great replayability. in my o...</td>\n",
       "      <td>2</td>\n",
       "    </tr>\n",
       "    <tr>\n",
       "      <th>...</th>\n",
       "      <td>...</td>\n",
       "      <td>...</td>\n",
       "      <td>...</td>\n",
       "      <td>...</td>\n",
       "      <td>...</td>\n",
       "      <td>...</td>\n",
       "      <td>...</td>\n",
       "      <td>...</td>\n",
       "    </tr>\n",
       "    <tr>\n",
       "      <th>1423596</th>\n",
       "      <td>LydiaMorley</td>\n",
       "      <td>http://steamcommunity.com/id/LydiaMorley</td>\n",
       "      <td>Posted July 20.</td>\n",
       "      <td>440.0</td>\n",
       "      <td>['1 of 2 people (50%) found this review helpfu...</td>\n",
       "      <td>True</td>\n",
       "      <td>['had so much fun plaing this and collecting r...</td>\n",
       "      <td>2</td>\n",
       "    </tr>\n",
       "    <tr>\n",
       "      <th>1423597</th>\n",
       "      <td>LydiaMorley</td>\n",
       "      <td>http://steamcommunity.com/id/LydiaMorley</td>\n",
       "      <td>Posted July 20.</td>\n",
       "      <td>440.0</td>\n",
       "      <td>['1 of 2 people (50%) found this review helpfu...</td>\n",
       "      <td>True</td>\n",
       "      <td>['had so much fun plaing this and collecting r...</td>\n",
       "      <td>2</td>\n",
       "    </tr>\n",
       "    <tr>\n",
       "      <th>1423598</th>\n",
       "      <td>LydiaMorley</td>\n",
       "      <td>http://steamcommunity.com/id/LydiaMorley</td>\n",
       "      <td>Posted July 2.</td>\n",
       "      <td>440.0</td>\n",
       "      <td>['1 of 2 people (50%) found this review helpfu...</td>\n",
       "      <td>True</td>\n",
       "      <td>['had so much fun plaing this and collecting r...</td>\n",
       "      <td>2</td>\n",
       "    </tr>\n",
       "    <tr>\n",
       "      <th>1423599</th>\n",
       "      <td>LydiaMorley</td>\n",
       "      <td>http://steamcommunity.com/id/LydiaMorley</td>\n",
       "      <td>Posted July 2.</td>\n",
       "      <td>440.0</td>\n",
       "      <td>['1 of 2 people (50%) found this review helpfu...</td>\n",
       "      <td>True</td>\n",
       "      <td>['had so much fun plaing this and collecting r...</td>\n",
       "      <td>2</td>\n",
       "    </tr>\n",
       "    <tr>\n",
       "      <th>1423600</th>\n",
       "      <td>LydiaMorley</td>\n",
       "      <td>http://steamcommunity.com/id/LydiaMorley</td>\n",
       "      <td>Posted July 2.</td>\n",
       "      <td>440.0</td>\n",
       "      <td>['1 of 2 people (50%) found this review helpfu...</td>\n",
       "      <td>True</td>\n",
       "      <td>['had so much fun plaing this and collecting r...</td>\n",
       "      <td>2</td>\n",
       "    </tr>\n",
       "  </tbody>\n",
       "</table>\n",
       "<p>1423601 rows × 8 columns</p>\n",
       "</div>"
      ],
      "text/plain": [
       "                   user_id                                           user_url  \\\n",
       "0        76561197970982479  http://steamcommunity.com/profiles/76561197970...   \n",
       "1        76561197970982479  http://steamcommunity.com/profiles/76561197970...   \n",
       "2        76561197970982479  http://steamcommunity.com/profiles/76561197970...   \n",
       "3        76561197970982479  http://steamcommunity.com/profiles/76561197970...   \n",
       "4        76561197970982479  http://steamcommunity.com/profiles/76561197970...   \n",
       "...                    ...                                                ...   \n",
       "1423596        LydiaMorley           http://steamcommunity.com/id/LydiaMorley   \n",
       "1423597        LydiaMorley           http://steamcommunity.com/id/LydiaMorley   \n",
       "1423598        LydiaMorley           http://steamcommunity.com/id/LydiaMorley   \n",
       "1423599        LydiaMorley           http://steamcommunity.com/id/LydiaMorley   \n",
       "1423600        LydiaMorley           http://steamcommunity.com/id/LydiaMorley   \n",
       "\n",
       "                           posted  item_id  \\\n",
       "0        Posted November 5, 2011.   1250.0   \n",
       "1        Posted November 5, 2011.   1250.0   \n",
       "2        Posted November 5, 2011.   1250.0   \n",
       "3           Posted July 15, 2011.   1250.0   \n",
       "4           Posted July 15, 2011.   1250.0   \n",
       "...                           ...      ...   \n",
       "1423596           Posted July 20.    440.0   \n",
       "1423597           Posted July 20.    440.0   \n",
       "1423598            Posted July 2.    440.0   \n",
       "1423599            Posted July 2.    440.0   \n",
       "1423600            Posted July 2.    440.0   \n",
       "\n",
       "                                                   helpful recommend  \\\n",
       "0        ['No ratings yet', 'No ratings yet', 'No ratin...      True   \n",
       "1        ['No ratings yet', 'No ratings yet', 'No ratin...      True   \n",
       "2        ['No ratings yet', 'No ratings yet', 'No ratin...      True   \n",
       "3        ['No ratings yet', 'No ratings yet', 'No ratin...      True   \n",
       "4        ['No ratings yet', 'No ratings yet', 'No ratin...      True   \n",
       "...                                                    ...       ...   \n",
       "1423596  ['1 of 2 people (50%) found this review helpfu...      True   \n",
       "1423597  ['1 of 2 people (50%) found this review helpfu...      True   \n",
       "1423598  ['1 of 2 people (50%) found this review helpfu...      True   \n",
       "1423599  ['1 of 2 people (50%) found this review helpfu...      True   \n",
       "1423600  ['1 of 2 people (50%) found this review helpfu...      True   \n",
       "\n",
       "                                                   review1  user_review  \n",
       "0        ['simple yet with great replayability. in my o...            2  \n",
       "1        ['simple yet with great replayability. in my o...            2  \n",
       "2        ['simple yet with great replayability. in my o...            2  \n",
       "3        ['simple yet with great replayability. in my o...            2  \n",
       "4        ['simple yet with great replayability. in my o...            2  \n",
       "...                                                    ...          ...  \n",
       "1423596  ['had so much fun plaing this and collecting r...            2  \n",
       "1423597  ['had so much fun plaing this and collecting r...            2  \n",
       "1423598  ['had so much fun plaing this and collecting r...            2  \n",
       "1423599  ['had so much fun plaing this and collecting r...            2  \n",
       "1423600  ['had so much fun plaing this and collecting r...            2  \n",
       "\n",
       "[1423601 rows x 8 columns]"
      ]
     },
     "execution_count": 4,
     "metadata": {},
     "output_type": "execute_result"
    }
   ],
   "source": [
    "df_review"
   ]
  },
  {
   "cell_type": "code",
   "execution_count": 5,
   "metadata": {},
   "outputs": [],
   "source": [
    "df_año= df_review[['item_id', 'posted', 'recommend']].copy()"
   ]
  },
  {
   "cell_type": "code",
   "execution_count": 6,
   "metadata": {},
   "outputs": [
    {
     "data": {
      "text/html": [
       "<div>\n",
       "<style scoped>\n",
       "    .dataframe tbody tr th:only-of-type {\n",
       "        vertical-align: middle;\n",
       "    }\n",
       "\n",
       "    .dataframe tbody tr th {\n",
       "        vertical-align: top;\n",
       "    }\n",
       "\n",
       "    .dataframe thead th {\n",
       "        text-align: right;\n",
       "    }\n",
       "</style>\n",
       "<table border=\"1\" class=\"dataframe\">\n",
       "  <thead>\n",
       "    <tr style=\"text-align: right;\">\n",
       "      <th></th>\n",
       "      <th>item_id</th>\n",
       "      <th>posted</th>\n",
       "      <th>recommend</th>\n",
       "    </tr>\n",
       "  </thead>\n",
       "  <tbody>\n",
       "    <tr>\n",
       "      <th>0</th>\n",
       "      <td>1250.0</td>\n",
       "      <td>Posted November 5, 2011.</td>\n",
       "      <td>True</td>\n",
       "    </tr>\n",
       "    <tr>\n",
       "      <th>1</th>\n",
       "      <td>1250.0</td>\n",
       "      <td>Posted November 5, 2011.</td>\n",
       "      <td>True</td>\n",
       "    </tr>\n",
       "    <tr>\n",
       "      <th>2</th>\n",
       "      <td>1250.0</td>\n",
       "      <td>Posted November 5, 2011.</td>\n",
       "      <td>True</td>\n",
       "    </tr>\n",
       "    <tr>\n",
       "      <th>3</th>\n",
       "      <td>1250.0</td>\n",
       "      <td>Posted July 15, 2011.</td>\n",
       "      <td>True</td>\n",
       "    </tr>\n",
       "    <tr>\n",
       "      <th>4</th>\n",
       "      <td>1250.0</td>\n",
       "      <td>Posted July 15, 2011.</td>\n",
       "      <td>True</td>\n",
       "    </tr>\n",
       "    <tr>\n",
       "      <th>...</th>\n",
       "      <td>...</td>\n",
       "      <td>...</td>\n",
       "      <td>...</td>\n",
       "    </tr>\n",
       "    <tr>\n",
       "      <th>1423596</th>\n",
       "      <td>440.0</td>\n",
       "      <td>Posted July 20.</td>\n",
       "      <td>True</td>\n",
       "    </tr>\n",
       "    <tr>\n",
       "      <th>1423597</th>\n",
       "      <td>440.0</td>\n",
       "      <td>Posted July 20.</td>\n",
       "      <td>True</td>\n",
       "    </tr>\n",
       "    <tr>\n",
       "      <th>1423598</th>\n",
       "      <td>440.0</td>\n",
       "      <td>Posted July 2.</td>\n",
       "      <td>True</td>\n",
       "    </tr>\n",
       "    <tr>\n",
       "      <th>1423599</th>\n",
       "      <td>440.0</td>\n",
       "      <td>Posted July 2.</td>\n",
       "      <td>True</td>\n",
       "    </tr>\n",
       "    <tr>\n",
       "      <th>1423600</th>\n",
       "      <td>440.0</td>\n",
       "      <td>Posted July 2.</td>\n",
       "      <td>True</td>\n",
       "    </tr>\n",
       "  </tbody>\n",
       "</table>\n",
       "<p>1423601 rows × 3 columns</p>\n",
       "</div>"
      ],
      "text/plain": [
       "         item_id                    posted recommend\n",
       "0         1250.0  Posted November 5, 2011.      True\n",
       "1         1250.0  Posted November 5, 2011.      True\n",
       "2         1250.0  Posted November 5, 2011.      True\n",
       "3         1250.0     Posted July 15, 2011.      True\n",
       "4         1250.0     Posted July 15, 2011.      True\n",
       "...          ...                       ...       ...\n",
       "1423596    440.0           Posted July 20.      True\n",
       "1423597    440.0           Posted July 20.      True\n",
       "1423598    440.0            Posted July 2.      True\n",
       "1423599    440.0            Posted July 2.      True\n",
       "1423600    440.0            Posted July 2.      True\n",
       "\n",
       "[1423601 rows x 3 columns]"
      ]
     },
     "execution_count": 6,
     "metadata": {},
     "output_type": "execute_result"
    }
   ],
   "source": [
    "df_año"
   ]
  },
  {
   "cell_type": "markdown",
   "metadata": {},
   "source": [
    "Elimino el punto de la columna posted"
   ]
  },
  {
   "cell_type": "code",
   "execution_count": 7,
   "metadata": {},
   "outputs": [],
   "source": [
    "df_año['posted'] = df_año['posted'].str.replace('.', '')"
   ]
  },
  {
   "cell_type": "markdown",
   "metadata": {},
   "source": [
    "Extraigo el año"
   ]
  },
  {
   "cell_type": "code",
   "execution_count": 8,
   "metadata": {},
   "outputs": [],
   "source": [
    "df_año['año'] = df_año['posted'].str[-4:]"
   ]
  },
  {
   "cell_type": "markdown",
   "metadata": {},
   "source": [
    "Elimino la columna posted porque ya no la necesito"
   ]
  },
  {
   "cell_type": "code",
   "execution_count": 9,
   "metadata": {},
   "outputs": [],
   "source": [
    "df_año= df_año.drop('posted', axis=1)"
   ]
  },
  {
   "cell_type": "markdown",
   "metadata": {},
   "source": [
    "Cambio el tipo de dato de la columna año a entero"
   ]
  },
  {
   "cell_type": "code",
   "execution_count": 10,
   "metadata": {},
   "outputs": [],
   "source": [
    "df_año['año'] = pd.to_numeric(df_año['año'], errors='coerce')\n",
    "df_año['año'] = df_año['año'].fillna(0).astype(int)"
   ]
  },
  {
   "cell_type": "markdown",
   "metadata": {},
   "source": [
    "Elimino las filas que tengan cero "
   ]
  },
  {
   "cell_type": "code",
   "execution_count": 11,
   "metadata": {},
   "outputs": [],
   "source": [
    "df_año = df_año[df_año['año'] != 0]"
   ]
  },
  {
   "cell_type": "code",
   "execution_count": 12,
   "metadata": {},
   "outputs": [
    {
     "data": {
      "text/html": [
       "<div>\n",
       "<style scoped>\n",
       "    .dataframe tbody tr th:only-of-type {\n",
       "        vertical-align: middle;\n",
       "    }\n",
       "\n",
       "    .dataframe tbody tr th {\n",
       "        vertical-align: top;\n",
       "    }\n",
       "\n",
       "    .dataframe thead th {\n",
       "        text-align: right;\n",
       "    }\n",
       "</style>\n",
       "<table border=\"1\" class=\"dataframe\">\n",
       "  <thead>\n",
       "    <tr style=\"text-align: right;\">\n",
       "      <th></th>\n",
       "      <th>item_id</th>\n",
       "      <th>recommend</th>\n",
       "      <th>año</th>\n",
       "    </tr>\n",
       "  </thead>\n",
       "  <tbody>\n",
       "    <tr>\n",
       "      <th>0</th>\n",
       "      <td>1250.0</td>\n",
       "      <td>True</td>\n",
       "      <td>2011</td>\n",
       "    </tr>\n",
       "    <tr>\n",
       "      <th>1</th>\n",
       "      <td>1250.0</td>\n",
       "      <td>True</td>\n",
       "      <td>2011</td>\n",
       "    </tr>\n",
       "    <tr>\n",
       "      <th>2</th>\n",
       "      <td>1250.0</td>\n",
       "      <td>True</td>\n",
       "      <td>2011</td>\n",
       "    </tr>\n",
       "    <tr>\n",
       "      <th>3</th>\n",
       "      <td>1250.0</td>\n",
       "      <td>True</td>\n",
       "      <td>2011</td>\n",
       "    </tr>\n",
       "    <tr>\n",
       "      <th>4</th>\n",
       "      <td>1250.0</td>\n",
       "      <td>True</td>\n",
       "      <td>2011</td>\n",
       "    </tr>\n",
       "    <tr>\n",
       "      <th>...</th>\n",
       "      <td>...</td>\n",
       "      <td>...</td>\n",
       "      <td>...</td>\n",
       "    </tr>\n",
       "    <tr>\n",
       "      <th>1423262</th>\n",
       "      <td>4000.0</td>\n",
       "      <td>False</td>\n",
       "      <td>2015</td>\n",
       "    </tr>\n",
       "    <tr>\n",
       "      <th>1423269</th>\n",
       "      <td>253980.0</td>\n",
       "      <td>True</td>\n",
       "      <td>2015</td>\n",
       "    </tr>\n",
       "    <tr>\n",
       "      <th>1423423</th>\n",
       "      <td>730.0</td>\n",
       "      <td>True</td>\n",
       "      <td>2015</td>\n",
       "    </tr>\n",
       "    <tr>\n",
       "      <th>1423425</th>\n",
       "      <td>730.0</td>\n",
       "      <td>True</td>\n",
       "      <td>2015</td>\n",
       "    </tr>\n",
       "    <tr>\n",
       "      <th>1423434</th>\n",
       "      <td>369200.0</td>\n",
       "      <td>True</td>\n",
       "      <td>2015</td>\n",
       "    </tr>\n",
       "  </tbody>\n",
       "</table>\n",
       "<p>1171278 rows × 3 columns</p>\n",
       "</div>"
      ],
      "text/plain": [
       "          item_id recommend   año\n",
       "0          1250.0      True  2011\n",
       "1          1250.0      True  2011\n",
       "2          1250.0      True  2011\n",
       "3          1250.0      True  2011\n",
       "4          1250.0      True  2011\n",
       "...           ...       ...   ...\n",
       "1423262    4000.0     False  2015\n",
       "1423269  253980.0      True  2015\n",
       "1423423     730.0      True  2015\n",
       "1423425     730.0      True  2015\n",
       "1423434  369200.0      True  2015\n",
       "\n",
       "[1171278 rows x 3 columns]"
      ]
     },
     "execution_count": 12,
     "metadata": {},
     "output_type": "execute_result"
    }
   ],
   "source": [
    "df_año"
   ]
  },
  {
   "cell_type": "markdown",
   "metadata": {},
   "source": [
    "Crearé otro dataset con el csv games.original"
   ]
  },
  {
   "cell_type": "code",
   "execution_count": 13,
   "metadata": {},
   "outputs": [
    {
     "name": "stderr",
     "output_type": "stream",
     "text": [
      "C:\\Users\\MI PC\\AppData\\Local\\Temp\\ipykernel_692\\1328704019.py:1: DtypeWarning: Columns (0,1,2,3,4,5,6,7,9,10,11,14,15,17) have mixed types. Specify dtype option on import or set low_memory=False.\n",
      "  df_videojuegos= pd.read_csv('../Data/games_original.csv')\n"
     ]
    }
   ],
   "source": [
    "df_videojuegos= pd.read_csv('../Data/games_original.csv')"
   ]
  },
  {
   "cell_type": "code",
   "execution_count": 14,
   "metadata": {},
   "outputs": [],
   "source": [
    "df_juegos = df_videojuegos[['title', 'id']].copy()"
   ]
  },
  {
   "cell_type": "code",
   "execution_count": 15,
   "metadata": {},
   "outputs": [
    {
     "data": {
      "text/html": [
       "<div>\n",
       "<style scoped>\n",
       "    .dataframe tbody tr th:only-of-type {\n",
       "        vertical-align: middle;\n",
       "    }\n",
       "\n",
       "    .dataframe tbody tr th {\n",
       "        vertical-align: top;\n",
       "    }\n",
       "\n",
       "    .dataframe thead th {\n",
       "        text-align: right;\n",
       "    }\n",
       "</style>\n",
       "<table border=\"1\" class=\"dataframe\">\n",
       "  <thead>\n",
       "    <tr style=\"text-align: right;\">\n",
       "      <th></th>\n",
       "      <th>title</th>\n",
       "      <th>id</th>\n",
       "    </tr>\n",
       "  </thead>\n",
       "  <tbody>\n",
       "    <tr>\n",
       "      <th>0</th>\n",
       "      <td>NaN</td>\n",
       "      <td>NaN</td>\n",
       "    </tr>\n",
       "    <tr>\n",
       "      <th>1</th>\n",
       "      <td>NaN</td>\n",
       "      <td>NaN</td>\n",
       "    </tr>\n",
       "    <tr>\n",
       "      <th>2</th>\n",
       "      <td>NaN</td>\n",
       "      <td>NaN</td>\n",
       "    </tr>\n",
       "    <tr>\n",
       "      <th>3</th>\n",
       "      <td>NaN</td>\n",
       "      <td>NaN</td>\n",
       "    </tr>\n",
       "    <tr>\n",
       "      <th>4</th>\n",
       "      <td>NaN</td>\n",
       "      <td>NaN</td>\n",
       "    </tr>\n",
       "    <tr>\n",
       "      <th>...</th>\n",
       "      <td>...</td>\n",
       "      <td>...</td>\n",
       "    </tr>\n",
       "    <tr>\n",
       "      <th>120440</th>\n",
       "      <td>Colony On Mars</td>\n",
       "      <td>773640.0</td>\n",
       "    </tr>\n",
       "    <tr>\n",
       "      <th>120441</th>\n",
       "      <td>LOGistICAL: South Africa</td>\n",
       "      <td>733530.0</td>\n",
       "    </tr>\n",
       "    <tr>\n",
       "      <th>120442</th>\n",
       "      <td>Russian Roads</td>\n",
       "      <td>610660.0</td>\n",
       "    </tr>\n",
       "    <tr>\n",
       "      <th>120443</th>\n",
       "      <td>EXIT 2 - Directions</td>\n",
       "      <td>658870.0</td>\n",
       "    </tr>\n",
       "    <tr>\n",
       "      <th>120444</th>\n",
       "      <td>NaN</td>\n",
       "      <td>681550.0</td>\n",
       "    </tr>\n",
       "  </tbody>\n",
       "</table>\n",
       "<p>120445 rows × 2 columns</p>\n",
       "</div>"
      ],
      "text/plain": [
       "                           title        id\n",
       "0                            NaN       NaN\n",
       "1                            NaN       NaN\n",
       "2                            NaN       NaN\n",
       "3                            NaN       NaN\n",
       "4                            NaN       NaN\n",
       "...                          ...       ...\n",
       "120440            Colony On Mars  773640.0\n",
       "120441  LOGistICAL: South Africa  733530.0\n",
       "120442             Russian Roads  610660.0\n",
       "120443       EXIT 2 - Directions  658870.0\n",
       "120444                       NaN  681550.0\n",
       "\n",
       "[120445 rows x 2 columns]"
      ]
     },
     "execution_count": 15,
     "metadata": {},
     "output_type": "execute_result"
    }
   ],
   "source": [
    "df_juegos"
   ]
  },
  {
   "cell_type": "markdown",
   "metadata": {},
   "source": [
    "Cambio el nombre de la columna de id por item_id"
   ]
  },
  {
   "cell_type": "code",
   "execution_count": 16,
   "metadata": {},
   "outputs": [],
   "source": [
    "df_juegos = df_juegos.rename(columns={'id':'item_id'})"
   ]
  },
  {
   "cell_type": "markdown",
   "metadata": {},
   "source": [
    "Eliminaré nulos del dataset"
   ]
  },
  {
   "cell_type": "code",
   "execution_count": 17,
   "metadata": {},
   "outputs": [],
   "source": [
    "df_juegos.dropna(how='all', inplace=True)"
   ]
  },
  {
   "cell_type": "code",
   "execution_count": 18,
   "metadata": {},
   "outputs": [
    {
     "data": {
      "text/html": [
       "<div>\n",
       "<style scoped>\n",
       "    .dataframe tbody tr th:only-of-type {\n",
       "        vertical-align: middle;\n",
       "    }\n",
       "\n",
       "    .dataframe tbody tr th {\n",
       "        vertical-align: top;\n",
       "    }\n",
       "\n",
       "    .dataframe thead th {\n",
       "        text-align: right;\n",
       "    }\n",
       "</style>\n",
       "<table border=\"1\" class=\"dataframe\">\n",
       "  <thead>\n",
       "    <tr style=\"text-align: right;\">\n",
       "      <th></th>\n",
       "      <th>title</th>\n",
       "      <th>item_id</th>\n",
       "    </tr>\n",
       "  </thead>\n",
       "  <tbody>\n",
       "    <tr>\n",
       "      <th>88310</th>\n",
       "      <td>Lost Summoner Kitty</td>\n",
       "      <td>761140.0</td>\n",
       "    </tr>\n",
       "    <tr>\n",
       "      <th>88311</th>\n",
       "      <td>Ironbound</td>\n",
       "      <td>643980.0</td>\n",
       "    </tr>\n",
       "    <tr>\n",
       "      <th>88312</th>\n",
       "      <td>Real Pool 3D - Poolians</td>\n",
       "      <td>670290.0</td>\n",
       "    </tr>\n",
       "    <tr>\n",
       "      <th>88313</th>\n",
       "      <td>弹炸人2222</td>\n",
       "      <td>767400.0</td>\n",
       "    </tr>\n",
       "    <tr>\n",
       "      <th>88314</th>\n",
       "      <td>NaN</td>\n",
       "      <td>773570.0</td>\n",
       "    </tr>\n",
       "    <tr>\n",
       "      <th>...</th>\n",
       "      <td>...</td>\n",
       "      <td>...</td>\n",
       "    </tr>\n",
       "    <tr>\n",
       "      <th>120440</th>\n",
       "      <td>Colony On Mars</td>\n",
       "      <td>773640.0</td>\n",
       "    </tr>\n",
       "    <tr>\n",
       "      <th>120441</th>\n",
       "      <td>LOGistICAL: South Africa</td>\n",
       "      <td>733530.0</td>\n",
       "    </tr>\n",
       "    <tr>\n",
       "      <th>120442</th>\n",
       "      <td>Russian Roads</td>\n",
       "      <td>610660.0</td>\n",
       "    </tr>\n",
       "    <tr>\n",
       "      <th>120443</th>\n",
       "      <td>EXIT 2 - Directions</td>\n",
       "      <td>658870.0</td>\n",
       "    </tr>\n",
       "    <tr>\n",
       "      <th>120444</th>\n",
       "      <td>NaN</td>\n",
       "      <td>681550.0</td>\n",
       "    </tr>\n",
       "  </tbody>\n",
       "</table>\n",
       "<p>32134 rows × 2 columns</p>\n",
       "</div>"
      ],
      "text/plain": [
       "                           title   item_id\n",
       "88310        Lost Summoner Kitty  761140.0\n",
       "88311                  Ironbound  643980.0\n",
       "88312    Real Pool 3D - Poolians  670290.0\n",
       "88313                    弹炸人2222  767400.0\n",
       "88314                        NaN  773570.0\n",
       "...                          ...       ...\n",
       "120440            Colony On Mars  773640.0\n",
       "120441  LOGistICAL: South Africa  733530.0\n",
       "120442             Russian Roads  610660.0\n",
       "120443       EXIT 2 - Directions  658870.0\n",
       "120444                       NaN  681550.0\n",
       "\n",
       "[32134 rows x 2 columns]"
      ]
     },
     "execution_count": 18,
     "metadata": {},
     "output_type": "execute_result"
    }
   ],
   "source": [
    "df_juegos"
   ]
  },
  {
   "cell_type": "markdown",
   "metadata": {},
   "source": [
    "Uniré los dos dataset df_juegos y df_años por item_id"
   ]
  },
  {
   "cell_type": "code",
   "execution_count": 19,
   "metadata": {},
   "outputs": [],
   "source": [
    "df_recomendacion_año = pd.merge(df_juegos, df_año, on='item_id')"
   ]
  },
  {
   "cell_type": "markdown",
   "metadata": {},
   "source": [
    "Eliminaré la columna item_id"
   ]
  },
  {
   "cell_type": "code",
   "execution_count": 20,
   "metadata": {},
   "outputs": [],
   "source": [
    "df_recomendacion_año= df_recomendacion_año.drop('item_id', axis=1)"
   ]
  },
  {
   "cell_type": "code",
   "execution_count": 21,
   "metadata": {},
   "outputs": [
    {
     "data": {
      "text/html": [
       "<div>\n",
       "<style scoped>\n",
       "    .dataframe tbody tr th:only-of-type {\n",
       "        vertical-align: middle;\n",
       "    }\n",
       "\n",
       "    .dataframe tbody tr th {\n",
       "        vertical-align: top;\n",
       "    }\n",
       "\n",
       "    .dataframe thead th {\n",
       "        text-align: right;\n",
       "    }\n",
       "</style>\n",
       "<table border=\"1\" class=\"dataframe\">\n",
       "  <thead>\n",
       "    <tr style=\"text-align: right;\">\n",
       "      <th></th>\n",
       "      <th>title</th>\n",
       "      <th>recommend</th>\n",
       "      <th>año</th>\n",
       "    </tr>\n",
       "  </thead>\n",
       "  <tbody>\n",
       "    <tr>\n",
       "      <th>0</th>\n",
       "      <td>Carmageddon Max Pack</td>\n",
       "      <td>True</td>\n",
       "      <td>2015</td>\n",
       "    </tr>\n",
       "    <tr>\n",
       "      <th>1</th>\n",
       "      <td>Carmageddon Max Pack</td>\n",
       "      <td>True</td>\n",
       "      <td>2015</td>\n",
       "    </tr>\n",
       "    <tr>\n",
       "      <th>2</th>\n",
       "      <td>Carmageddon Max Pack</td>\n",
       "      <td>True</td>\n",
       "      <td>2015</td>\n",
       "    </tr>\n",
       "    <tr>\n",
       "      <th>3</th>\n",
       "      <td>Half-Life</td>\n",
       "      <td>True</td>\n",
       "      <td>2015</td>\n",
       "    </tr>\n",
       "    <tr>\n",
       "      <th>4</th>\n",
       "      <td>Half-Life</td>\n",
       "      <td>False</td>\n",
       "      <td>2015</td>\n",
       "    </tr>\n",
       "    <tr>\n",
       "      <th>...</th>\n",
       "      <td>...</td>\n",
       "      <td>...</td>\n",
       "      <td>...</td>\n",
       "    </tr>\n",
       "    <tr>\n",
       "      <th>1056635</th>\n",
       "      <td>Counter-Strike: Condition Zero</td>\n",
       "      <td>True</td>\n",
       "      <td>2015</td>\n",
       "    </tr>\n",
       "    <tr>\n",
       "      <th>1056636</th>\n",
       "      <td>Counter-Strike: Condition Zero</td>\n",
       "      <td>True</td>\n",
       "      <td>2015</td>\n",
       "    </tr>\n",
       "    <tr>\n",
       "      <th>1056637</th>\n",
       "      <td>Counter-Strike: Condition Zero</td>\n",
       "      <td>True</td>\n",
       "      <td>2015</td>\n",
       "    </tr>\n",
       "    <tr>\n",
       "      <th>1056638</th>\n",
       "      <td>Counter-Strike: Condition Zero</td>\n",
       "      <td>True</td>\n",
       "      <td>2015</td>\n",
       "    </tr>\n",
       "    <tr>\n",
       "      <th>1056639</th>\n",
       "      <td>Counter-Strike: Condition Zero</td>\n",
       "      <td>True</td>\n",
       "      <td>2015</td>\n",
       "    </tr>\n",
       "  </tbody>\n",
       "</table>\n",
       "<p>1056640 rows × 3 columns</p>\n",
       "</div>"
      ],
      "text/plain": [
       "                                  title recommend   año\n",
       "0                  Carmageddon Max Pack      True  2015\n",
       "1                  Carmageddon Max Pack      True  2015\n",
       "2                  Carmageddon Max Pack      True  2015\n",
       "3                             Half-Life      True  2015\n",
       "4                             Half-Life     False  2015\n",
       "...                                 ...       ...   ...\n",
       "1056635  Counter-Strike: Condition Zero      True  2015\n",
       "1056636  Counter-Strike: Condition Zero      True  2015\n",
       "1056637  Counter-Strike: Condition Zero      True  2015\n",
       "1056638  Counter-Strike: Condition Zero      True  2015\n",
       "1056639  Counter-Strike: Condition Zero      True  2015\n",
       "\n",
       "[1056640 rows x 3 columns]"
      ]
     },
     "execution_count": 21,
     "metadata": {},
     "output_type": "execute_result"
    }
   ],
   "source": [
    "df_recomendacion_año"
   ]
  },
  {
   "cell_type": "code",
   "execution_count": 22,
   "metadata": {},
   "outputs": [],
   "source": [
    "df= df_recomendacion_año.groupby(['title', 'año'])['recommend'].sum()"
   ]
  },
  {
   "cell_type": "code",
   "execution_count": 23,
   "metadata": {},
   "outputs": [
    {
     "data": {
      "text/html": [
       "<div>\n",
       "<style scoped>\n",
       "    .dataframe tbody tr th:only-of-type {\n",
       "        vertical-align: middle;\n",
       "    }\n",
       "\n",
       "    .dataframe tbody tr th {\n",
       "        vertical-align: top;\n",
       "    }\n",
       "\n",
       "    .dataframe thead th {\n",
       "        text-align: right;\n",
       "    }\n",
       "</style>\n",
       "<table border=\"1\" class=\"dataframe\">\n",
       "  <thead>\n",
       "    <tr style=\"text-align: right;\">\n",
       "      <th></th>\n",
       "      <th>title</th>\n",
       "      <th>recommend</th>\n",
       "      <th>año</th>\n",
       "    </tr>\n",
       "  </thead>\n",
       "  <tbody>\n",
       "    <tr>\n",
       "      <th>0</th>\n",
       "      <td>Carmageddon Max Pack</td>\n",
       "      <td>True</td>\n",
       "      <td>2015</td>\n",
       "    </tr>\n",
       "    <tr>\n",
       "      <th>1</th>\n",
       "      <td>Carmageddon Max Pack</td>\n",
       "      <td>True</td>\n",
       "      <td>2015</td>\n",
       "    </tr>\n",
       "    <tr>\n",
       "      <th>2</th>\n",
       "      <td>Carmageddon Max Pack</td>\n",
       "      <td>True</td>\n",
       "      <td>2015</td>\n",
       "    </tr>\n",
       "    <tr>\n",
       "      <th>3</th>\n",
       "      <td>Half-Life</td>\n",
       "      <td>True</td>\n",
       "      <td>2015</td>\n",
       "    </tr>\n",
       "    <tr>\n",
       "      <th>4</th>\n",
       "      <td>Half-Life</td>\n",
       "      <td>False</td>\n",
       "      <td>2015</td>\n",
       "    </tr>\n",
       "    <tr>\n",
       "      <th>...</th>\n",
       "      <td>...</td>\n",
       "      <td>...</td>\n",
       "      <td>...</td>\n",
       "    </tr>\n",
       "    <tr>\n",
       "      <th>1056635</th>\n",
       "      <td>Counter-Strike: Condition Zero</td>\n",
       "      <td>True</td>\n",
       "      <td>2015</td>\n",
       "    </tr>\n",
       "    <tr>\n",
       "      <th>1056636</th>\n",
       "      <td>Counter-Strike: Condition Zero</td>\n",
       "      <td>True</td>\n",
       "      <td>2015</td>\n",
       "    </tr>\n",
       "    <tr>\n",
       "      <th>1056637</th>\n",
       "      <td>Counter-Strike: Condition Zero</td>\n",
       "      <td>True</td>\n",
       "      <td>2015</td>\n",
       "    </tr>\n",
       "    <tr>\n",
       "      <th>1056638</th>\n",
       "      <td>Counter-Strike: Condition Zero</td>\n",
       "      <td>True</td>\n",
       "      <td>2015</td>\n",
       "    </tr>\n",
       "    <tr>\n",
       "      <th>1056639</th>\n",
       "      <td>Counter-Strike: Condition Zero</td>\n",
       "      <td>True</td>\n",
       "      <td>2015</td>\n",
       "    </tr>\n",
       "  </tbody>\n",
       "</table>\n",
       "<p>1056640 rows × 3 columns</p>\n",
       "</div>"
      ],
      "text/plain": [
       "                                  title recommend   año\n",
       "0                  Carmageddon Max Pack      True  2015\n",
       "1                  Carmageddon Max Pack      True  2015\n",
       "2                  Carmageddon Max Pack      True  2015\n",
       "3                             Half-Life      True  2015\n",
       "4                             Half-Life     False  2015\n",
       "...                                 ...       ...   ...\n",
       "1056635  Counter-Strike: Condition Zero      True  2015\n",
       "1056636  Counter-Strike: Condition Zero      True  2015\n",
       "1056637  Counter-Strike: Condition Zero      True  2015\n",
       "1056638  Counter-Strike: Condition Zero      True  2015\n",
       "1056639  Counter-Strike: Condition Zero      True  2015\n",
       "\n",
       "[1056640 rows x 3 columns]"
      ]
     },
     "execution_count": 23,
     "metadata": {},
     "output_type": "execute_result"
    }
   ],
   "source": [
    "df_recomendacion_año"
   ]
  },
  {
   "cell_type": "code",
   "execution_count": 24,
   "metadata": {},
   "outputs": [
    {
     "name": "stdout",
     "output_type": "stream",
     "text": [
      "title                                         año \n",
      "! That Bastard Is Trying To Steal Our Gold !  2014      5\n",
      "                                              2015     10\n",
      "//N.P.P.D. RUSH//- The milk of Ultraviolet    2012      4\n",
      "                                              2013      8\n",
      "                                              2014      2\n",
      "                                                     ... \n",
      "theHunter: Primal                             2013     17\n",
      "                                              2014     56\n",
      "                                              2015    153\n",
      "Астролорды: Облако Оорта                      2013      2\n",
      "                                              2015      4\n",
      "Length: 8121, dtype: int64\n"
     ]
    }
   ],
   "source": [
    "# Agrupa los datos por título y año y cuenta los valores True\n",
    "true_counts = df_recomendacion_año[df_recomendacion_año['recommend'] == True].groupby(['title', 'año']).size()\n",
    "\n",
    "# Muestra los resultados\n",
    "print(true_counts)"
   ]
  },
  {
   "cell_type": "code",
   "execution_count": 25,
   "metadata": {},
   "outputs": [
    {
     "name": "stdout",
     "output_type": "stream",
     "text": [
      "año   title                             año \n",
      "2010  Team Fortress 2                   2010      107\n",
      "      Portal 2                          2010       92\n",
      "      Killing Floor                     2010       58\n",
      "2011  Team Fortress 2                   2011      918\n",
      "      Portal 2                          2011      488\n",
      "      Terraria                          2011      439\n",
      "2012  Team Fortress 2                   2012     2137\n",
      "      Garry's Mod                       2012      890\n",
      "      Counter-Strike: Global Offensive  2012      782\n",
      "2013  Team Fortress 2                   2013     6835\n",
      "      Garry's Mod                       2013     4440\n",
      "      Counter-Strike: Global Offensive  2013     4099\n",
      "2014  Team Fortress 2                   2014    18422\n",
      "      Counter-Strike: Global Offensive  2014    14859\n",
      "      Garry's Mod                       2014    12440\n",
      "2015  Counter-Strike: Global Offensive  2015    17444\n",
      "      Team Fortress 2                   2015    14503\n",
      "      Garry's Mod                       2015    10980\n",
      "dtype: int64\n"
     ]
    }
   ],
   "source": [
    "# Obtiene los tres juegos más recomendados por año\n",
    "top_3 = true_counts.groupby('año').nlargest(3)\n",
    "\n",
    "# Muestra los resultados\n",
    "print(top_3)"
   ]
  },
  {
   "cell_type": "code",
   "execution_count": 26,
   "metadata": {},
   "outputs": [
    {
     "name": "stdout",
     "output_type": "stream",
     "text": [
      "     año                             juego  calificación\n",
      "0   2010                   Team Fortress 2           107\n",
      "1   2010                          Portal 2            92\n",
      "2   2010                     Killing Floor            58\n",
      "3   2011                   Team Fortress 2           918\n",
      "4   2011                          Portal 2           488\n",
      "5   2011                          Terraria           439\n",
      "6   2012                   Team Fortress 2          2137\n",
      "7   2012                       Garry's Mod           890\n",
      "8   2012  Counter-Strike: Global Offensive           782\n",
      "9   2013                   Team Fortress 2          6835\n",
      "10  2013                       Garry's Mod          4440\n",
      "11  2013  Counter-Strike: Global Offensive          4099\n",
      "12  2014                   Team Fortress 2         18422\n",
      "13  2014  Counter-Strike: Global Offensive         14859\n",
      "14  2014                       Garry's Mod         12440\n",
      "15  2015  Counter-Strike: Global Offensive         17444\n",
      "16  2015                   Team Fortress 2         14503\n",
      "17  2015                       Garry's Mod         10980\n"
     ]
    }
   ],
   "source": [
    "# Crear un diccionario con los datos\n",
    "data = {'año': [2010, 2010, 2010, 2011, 2011, 2011, 2012, 2012, 2012, 2013, 2013, 2013, 2014, 2014, 2014, 2015, 2015, 2015],\n",
    "        'juego': ['Team Fortress 2', 'Portal 2', 'Killing Floor', 'Team Fortress 2', 'Portal 2', 'Terraria', 'Team Fortress 2', 'Garry\\'s Mod', 'Counter-Strike: Global Offensive', 'Team Fortress 2', 'Garry\\'s Mod', 'Counter-Strike: Global Offensive', 'Team Fortress 2', 'Counter-Strike: Global Offensive', 'Garry\\'s Mod', 'Counter-Strike: Global Offensive', 'Team Fortress 2', 'Garry\\'s Mod'],\n",
    "        'calificación': [107, 92, 58, 918, 488, 439, 2137, 890, 782, 6835, 4440, 4099, 18422, 14859, 12440,17444 ,14503 ,10980]}\n",
    "\n",
    "# Convertir el diccionario en un DataFrame\n",
    "df = pd.DataFrame(data)\n",
    "\n",
    "# Imprimir el DataFrame\n",
    "print(df)"
   ]
  },
  {
   "cell_type": "markdown",
   "metadata": {},
   "source": [
    "Crearé un csv para luego poder abrirlo con fastapi"
   ]
  },
  {
   "cell_type": "code",
   "execution_count": 27,
   "metadata": {},
   "outputs": [],
   "source": [
    "df.to_csv('UsersRecommend.csv', index=False)"
   ]
  },
  {
   "cell_type": "code",
   "execution_count": 28,
   "metadata": {},
   "outputs": [
    {
     "name": "stdout",
     "output_type": "stream",
     "text": [
      "[{'Puesto 1:': 'Team Fortress 2'}, {'Puesto 2:': 'Portal 2'}, {'Puesto 3:': 'Terraria'}]\n"
     ]
    }
   ],
   "source": [
    "def UsersRecommend(año):\n",
    "    # Filtrar los juegos del año deseado\n",
    "    juegos_año = df[df['año'] == año]\n",
    "    \n",
    "    # Seleccionar los tres juegos con la calificación más alta\n",
    "    top_3_juegos = list(juegos_año.nlargest(3, 'calificación')['juego'])\n",
    "    \n",
    "    # Crear una lista de diccionarios con el formato deseado\n",
    "    resultado = [{'Puesto {}:'.format(i+1): juego} for i,juego in enumerate(top_3_juegos)]\n",
    "    \n",
    "    return resultado\n",
    "\n",
    "# Ejemplo de uso\n",
    "print(UsersRecommend(2011))"
   ]
  }
 ],
 "metadata": {
  "kernelspec": {
   "display_name": "Python 3",
   "language": "python",
   "name": "python3"
  },
  "language_info": {
   "codemirror_mode": {
    "name": "ipython",
    "version": 3
   },
   "file_extension": ".py",
   "mimetype": "text/x-python",
   "name": "python",
   "nbconvert_exporter": "python",
   "pygments_lexer": "ipython3",
   "version": "3.10.11"
  }
 },
 "nbformat": 4,
 "nbformat_minor": 2
}
