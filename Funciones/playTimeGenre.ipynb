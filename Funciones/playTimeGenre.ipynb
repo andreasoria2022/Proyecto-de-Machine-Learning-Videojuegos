{
 "cells": [
  {
   "cell_type": "markdown",
   "metadata": {},
   "source": [
    "Crearé una funcion llamada PlayTime Genre(genero:str) que me devolverá año con más horas jugadas para dicho genero. Para lo cual empezaré importando la librería que necesito."
   ]
  },
  {
   "cell_type": "code",
   "execution_count": 41,
   "metadata": {},
   "outputs": [],
   "source": [
    "import pandas as pd"
   ]
  },
  {
   "cell_type": "markdown",
   "metadata": {},
   "source": [
    "Crearé un dataset a partir del csv games_original.csv"
   ]
  },
  {
   "cell_type": "code",
   "execution_count": 42,
   "metadata": {},
   "outputs": [
    {
     "name": "stderr",
     "output_type": "stream",
     "text": [
      "C:\\Users\\MI PC\\AppData\\Local\\Temp\\ipykernel_10856\\866917060.py:1: DtypeWarning: Columns (0,1,2,3,4,5,6,7,9,10,11,14,15,17) have mixed types. Specify dtype option on import or set low_memory=False.\n",
      "  df_games= pd.read_csv('../Data/games_original.csv')\n"
     ]
    }
   ],
   "source": [
    "df_games= pd.read_csv('../Data/games_original.csv')"
   ]
  },
  {
   "cell_type": "markdown",
   "metadata": {},
   "source": [
    "Del dataset anterior solo copiaré las columnas genres, realease_date y id porque las voy a necesitar para realizar la función"
   ]
  },
  {
   "cell_type": "code",
   "execution_count": 43,
   "metadata": {},
   "outputs": [],
   "source": [
    "df_genero = df_games[['genres', 'id']].copy()"
   ]
  },
  {
   "cell_type": "markdown",
   "metadata": {},
   "source": [
    "Voy a ver el dataset genero"
   ]
  },
  {
   "cell_type": "code",
   "execution_count": 44,
   "metadata": {},
   "outputs": [
    {
     "data": {
      "text/html": [
       "<div>\n",
       "<style scoped>\n",
       "    .dataframe tbody tr th:only-of-type {\n",
       "        vertical-align: middle;\n",
       "    }\n",
       "\n",
       "    .dataframe tbody tr th {\n",
       "        vertical-align: top;\n",
       "    }\n",
       "\n",
       "    .dataframe thead th {\n",
       "        text-align: right;\n",
       "    }\n",
       "</style>\n",
       "<table border=\"1\" class=\"dataframe\">\n",
       "  <thead>\n",
       "    <tr style=\"text-align: right;\">\n",
       "      <th></th>\n",
       "      <th>genres</th>\n",
       "      <th>id</th>\n",
       "    </tr>\n",
       "  </thead>\n",
       "  <tbody>\n",
       "    <tr>\n",
       "      <th>0</th>\n",
       "      <td>NaN</td>\n",
       "      <td>NaN</td>\n",
       "    </tr>\n",
       "    <tr>\n",
       "      <th>1</th>\n",
       "      <td>NaN</td>\n",
       "      <td>NaN</td>\n",
       "    </tr>\n",
       "    <tr>\n",
       "      <th>2</th>\n",
       "      <td>NaN</td>\n",
       "      <td>NaN</td>\n",
       "    </tr>\n",
       "    <tr>\n",
       "      <th>3</th>\n",
       "      <td>NaN</td>\n",
       "      <td>NaN</td>\n",
       "    </tr>\n",
       "    <tr>\n",
       "      <th>4</th>\n",
       "      <td>NaN</td>\n",
       "      <td>NaN</td>\n",
       "    </tr>\n",
       "    <tr>\n",
       "      <th>...</th>\n",
       "      <td>...</td>\n",
       "      <td>...</td>\n",
       "    </tr>\n",
       "    <tr>\n",
       "      <th>120440</th>\n",
       "      <td>['Casual', 'Indie', 'Simulation', 'Strategy']</td>\n",
       "      <td>773640.0</td>\n",
       "    </tr>\n",
       "    <tr>\n",
       "      <th>120441</th>\n",
       "      <td>['Casual', 'Indie', 'Strategy']</td>\n",
       "      <td>733530.0</td>\n",
       "    </tr>\n",
       "    <tr>\n",
       "      <th>120442</th>\n",
       "      <td>['Indie', 'Racing', 'Simulation']</td>\n",
       "      <td>610660.0</td>\n",
       "    </tr>\n",
       "    <tr>\n",
       "      <th>120443</th>\n",
       "      <td>['Casual', 'Indie']</td>\n",
       "      <td>658870.0</td>\n",
       "    </tr>\n",
       "    <tr>\n",
       "      <th>120444</th>\n",
       "      <td>NaN</td>\n",
       "      <td>681550.0</td>\n",
       "    </tr>\n",
       "  </tbody>\n",
       "</table>\n",
       "<p>120445 rows × 2 columns</p>\n",
       "</div>"
      ],
      "text/plain": [
       "                                               genres        id\n",
       "0                                                 NaN       NaN\n",
       "1                                                 NaN       NaN\n",
       "2                                                 NaN       NaN\n",
       "3                                                 NaN       NaN\n",
       "4                                                 NaN       NaN\n",
       "...                                               ...       ...\n",
       "120440  ['Casual', 'Indie', 'Simulation', 'Strategy']  773640.0\n",
       "120441                ['Casual', 'Indie', 'Strategy']  733530.0\n",
       "120442              ['Indie', 'Racing', 'Simulation']  610660.0\n",
       "120443                            ['Casual', 'Indie']  658870.0\n",
       "120444                                            NaN  681550.0\n",
       "\n",
       "[120445 rows x 2 columns]"
      ]
     },
     "execution_count": 44,
     "metadata": {},
     "output_type": "execute_result"
    }
   ],
   "source": [
    "df_genero"
   ]
  },
  {
   "cell_type": "markdown",
   "metadata": {},
   "source": [
    "Eliminaré nulos "
   ]
  },
  {
   "cell_type": "code",
   "execution_count": 45,
   "metadata": {},
   "outputs": [],
   "source": [
    "df_genero.dropna(inplace=True)"
   ]
  },
  {
   "cell_type": "markdown",
   "metadata": {},
   "source": [
    "Cambio el nombre de la columna id por item_id porque luego voy a necesitar para poder unir los dataset"
   ]
  },
  {
   "cell_type": "code",
   "execution_count": 46,
   "metadata": {},
   "outputs": [],
   "source": [
    "df_genero.rename (columns={'id':'item_id'}, inplace=True)"
   ]
  },
  {
   "cell_type": "markdown",
   "metadata": {},
   "source": [
    "Creo un DataFrame a partir de los datos"
   ]
  },
  {
   "cell_type": "code",
   "execution_count": 47,
   "metadata": {},
   "outputs": [],
   "source": [
    "df = pd.DataFrame(df_genero).reset_index(drop= True)\n"
   ]
  },
  {
   "cell_type": "markdown",
   "metadata": {},
   "source": [
    "Voy a elimanar corchetes y comillas. Y utilizaré el metodo explode para desanidar la columna genres"
   ]
  },
  {
   "cell_type": "code",
   "execution_count": 48,
   "metadata": {},
   "outputs": [],
   "source": [
    "df = df.assign(genres=df['genres'].str.strip('[]').str.replace(\"'\", \"\").str.split(\", \")).explode('genres')\n",
    "\n"
   ]
  },
  {
   "cell_type": "markdown",
   "metadata": {},
   "source": [
    "Imprimo el dataset df"
   ]
  },
  {
   "cell_type": "code",
   "execution_count": 49,
   "metadata": {},
   "outputs": [
    {
     "name": "stdout",
     "output_type": "stream",
     "text": [
      "           genres   item_id\n",
      "0          Action  761140.0\n",
      "0          Casual  761140.0\n",
      "0           Indie  761140.0\n",
      "0      Simulation  761140.0\n",
      "0        Strategy  761140.0\n",
      "...           ...       ...\n",
      "28849       Indie  610660.0\n",
      "28849      Racing  610660.0\n",
      "28849  Simulation  610660.0\n",
      "28850      Casual  658870.0\n",
      "28850       Indie  658870.0\n",
      "\n",
      "[71552 rows x 2 columns]\n"
     ]
    }
   ],
   "source": [
    "print(df)"
   ]
  },
  {
   "cell_type": "markdown",
   "metadata": {},
   "source": [
    "Crearé un dataset a partir del csv reviews.csv"
   ]
  },
  {
   "cell_type": "code",
   "execution_count": 11,
   "metadata": {},
   "outputs": [
    {
     "name": "stderr",
     "output_type": "stream",
     "text": [
      "C:\\Users\\MI PC\\AppData\\Local\\Temp\\ipykernel_10856\\2852139781.py:1: DtypeWarning: Columns (0,1,2,3,4,5,6,7,9,10,11,14,15,17) have mixed types. Specify dtype option on import or set low_memory=False.\n",
      "  df_games = pd.read_csv('../Data/games_original.csv')\n"
     ]
    }
   ],
   "source": [
    "df_games = pd.read_csv('../Data/games_original.csv')"
   ]
  },
  {
   "cell_type": "markdown",
   "metadata": {},
   "source": [
    "Crearé otro dataset df_año para lo que copiaré las columnas release_date e item_i "
   ]
  },
  {
   "cell_type": "code",
   "execution_count": 12,
   "metadata": {},
   "outputs": [],
   "source": [
    "df_año = df_games[['release_date', 'id']].copy()"
   ]
  },
  {
   "cell_type": "code",
   "execution_count": 13,
   "metadata": {},
   "outputs": [
    {
     "data": {
      "text/html": [
       "<div>\n",
       "<style scoped>\n",
       "    .dataframe tbody tr th:only-of-type {\n",
       "        vertical-align: middle;\n",
       "    }\n",
       "\n",
       "    .dataframe tbody tr th {\n",
       "        vertical-align: top;\n",
       "    }\n",
       "\n",
       "    .dataframe thead th {\n",
       "        text-align: right;\n",
       "    }\n",
       "</style>\n",
       "<table border=\"1\" class=\"dataframe\">\n",
       "  <thead>\n",
       "    <tr style=\"text-align: right;\">\n",
       "      <th></th>\n",
       "      <th>release_date</th>\n",
       "      <th>id</th>\n",
       "    </tr>\n",
       "  </thead>\n",
       "  <tbody>\n",
       "    <tr>\n",
       "      <th>0</th>\n",
       "      <td>NaN</td>\n",
       "      <td>NaN</td>\n",
       "    </tr>\n",
       "    <tr>\n",
       "      <th>1</th>\n",
       "      <td>NaN</td>\n",
       "      <td>NaN</td>\n",
       "    </tr>\n",
       "    <tr>\n",
       "      <th>2</th>\n",
       "      <td>NaN</td>\n",
       "      <td>NaN</td>\n",
       "    </tr>\n",
       "    <tr>\n",
       "      <th>3</th>\n",
       "      <td>NaN</td>\n",
       "      <td>NaN</td>\n",
       "    </tr>\n",
       "    <tr>\n",
       "      <th>4</th>\n",
       "      <td>NaN</td>\n",
       "      <td>NaN</td>\n",
       "    </tr>\n",
       "    <tr>\n",
       "      <th>...</th>\n",
       "      <td>...</td>\n",
       "      <td>...</td>\n",
       "    </tr>\n",
       "    <tr>\n",
       "      <th>120440</th>\n",
       "      <td>2018-01-04</td>\n",
       "      <td>773640.0</td>\n",
       "    </tr>\n",
       "    <tr>\n",
       "      <th>120441</th>\n",
       "      <td>2018-01-04</td>\n",
       "      <td>733530.0</td>\n",
       "    </tr>\n",
       "    <tr>\n",
       "      <th>120442</th>\n",
       "      <td>2018-01-04</td>\n",
       "      <td>610660.0</td>\n",
       "    </tr>\n",
       "    <tr>\n",
       "      <th>120443</th>\n",
       "      <td>2017-09-02</td>\n",
       "      <td>658870.0</td>\n",
       "    </tr>\n",
       "    <tr>\n",
       "      <th>120444</th>\n",
       "      <td>NaN</td>\n",
       "      <td>681550.0</td>\n",
       "    </tr>\n",
       "  </tbody>\n",
       "</table>\n",
       "<p>120445 rows × 2 columns</p>\n",
       "</div>"
      ],
      "text/plain": [
       "       release_date        id\n",
       "0               NaN       NaN\n",
       "1               NaN       NaN\n",
       "2               NaN       NaN\n",
       "3               NaN       NaN\n",
       "4               NaN       NaN\n",
       "...             ...       ...\n",
       "120440   2018-01-04  773640.0\n",
       "120441   2018-01-04  733530.0\n",
       "120442   2018-01-04  610660.0\n",
       "120443   2017-09-02  658870.0\n",
       "120444          NaN  681550.0\n",
       "\n",
       "[120445 rows x 2 columns]"
      ]
     },
     "execution_count": 13,
     "metadata": {},
     "output_type": "execute_result"
    }
   ],
   "source": [
    "df_año"
   ]
  },
  {
   "cell_type": "markdown",
   "metadata": {},
   "source": [
    "Extraigo el año de la columna release_date"
   ]
  },
  {
   "cell_type": "code",
   "execution_count": 14,
   "metadata": {},
   "outputs": [],
   "source": [
    "df_año['año'] = df_año['release_date'].str[:4]"
   ]
  },
  {
   "cell_type": "code",
   "execution_count": 15,
   "metadata": {},
   "outputs": [
    {
     "data": {
      "text/html": [
       "<div>\n",
       "<style scoped>\n",
       "    .dataframe tbody tr th:only-of-type {\n",
       "        vertical-align: middle;\n",
       "    }\n",
       "\n",
       "    .dataframe tbody tr th {\n",
       "        vertical-align: top;\n",
       "    }\n",
       "\n",
       "    .dataframe thead th {\n",
       "        text-align: right;\n",
       "    }\n",
       "</style>\n",
       "<table border=\"1\" class=\"dataframe\">\n",
       "  <thead>\n",
       "    <tr style=\"text-align: right;\">\n",
       "      <th></th>\n",
       "      <th>release_date</th>\n",
       "      <th>id</th>\n",
       "      <th>año</th>\n",
       "    </tr>\n",
       "  </thead>\n",
       "  <tbody>\n",
       "    <tr>\n",
       "      <th>0</th>\n",
       "      <td>NaN</td>\n",
       "      <td>NaN</td>\n",
       "      <td>NaN</td>\n",
       "    </tr>\n",
       "    <tr>\n",
       "      <th>1</th>\n",
       "      <td>NaN</td>\n",
       "      <td>NaN</td>\n",
       "      <td>NaN</td>\n",
       "    </tr>\n",
       "    <tr>\n",
       "      <th>2</th>\n",
       "      <td>NaN</td>\n",
       "      <td>NaN</td>\n",
       "      <td>NaN</td>\n",
       "    </tr>\n",
       "    <tr>\n",
       "      <th>3</th>\n",
       "      <td>NaN</td>\n",
       "      <td>NaN</td>\n",
       "      <td>NaN</td>\n",
       "    </tr>\n",
       "    <tr>\n",
       "      <th>4</th>\n",
       "      <td>NaN</td>\n",
       "      <td>NaN</td>\n",
       "      <td>NaN</td>\n",
       "    </tr>\n",
       "    <tr>\n",
       "      <th>...</th>\n",
       "      <td>...</td>\n",
       "      <td>...</td>\n",
       "      <td>...</td>\n",
       "    </tr>\n",
       "    <tr>\n",
       "      <th>120440</th>\n",
       "      <td>2018-01-04</td>\n",
       "      <td>773640.0</td>\n",
       "      <td>2018</td>\n",
       "    </tr>\n",
       "    <tr>\n",
       "      <th>120441</th>\n",
       "      <td>2018-01-04</td>\n",
       "      <td>733530.0</td>\n",
       "      <td>2018</td>\n",
       "    </tr>\n",
       "    <tr>\n",
       "      <th>120442</th>\n",
       "      <td>2018-01-04</td>\n",
       "      <td>610660.0</td>\n",
       "      <td>2018</td>\n",
       "    </tr>\n",
       "    <tr>\n",
       "      <th>120443</th>\n",
       "      <td>2017-09-02</td>\n",
       "      <td>658870.0</td>\n",
       "      <td>2017</td>\n",
       "    </tr>\n",
       "    <tr>\n",
       "      <th>120444</th>\n",
       "      <td>NaN</td>\n",
       "      <td>681550.0</td>\n",
       "      <td>NaN</td>\n",
       "    </tr>\n",
       "  </tbody>\n",
       "</table>\n",
       "<p>120445 rows × 3 columns</p>\n",
       "</div>"
      ],
      "text/plain": [
       "       release_date        id   año\n",
       "0               NaN       NaN   NaN\n",
       "1               NaN       NaN   NaN\n",
       "2               NaN       NaN   NaN\n",
       "3               NaN       NaN   NaN\n",
       "4               NaN       NaN   NaN\n",
       "...             ...       ...   ...\n",
       "120440   2018-01-04  773640.0  2018\n",
       "120441   2018-01-04  733530.0  2018\n",
       "120442   2018-01-04  610660.0  2018\n",
       "120443   2017-09-02  658870.0  2017\n",
       "120444          NaN  681550.0   NaN\n",
       "\n",
       "[120445 rows x 3 columns]"
      ]
     },
     "execution_count": 15,
     "metadata": {},
     "output_type": "execute_result"
    }
   ],
   "source": [
    "df_año"
   ]
  },
  {
   "cell_type": "markdown",
   "metadata": {},
   "source": [
    "Elimino la columna release_date porque extraje el año que es lo que necesito para realizar la función "
   ]
  },
  {
   "cell_type": "code",
   "execution_count": 16,
   "metadata": {},
   "outputs": [],
   "source": [
    "df_año= df_año.drop('release_date', axis=1)"
   ]
  },
  {
   "cell_type": "markdown",
   "metadata": {},
   "source": [
    "Cambio el tipo de dato de la columna año de object a entero"
   ]
  },
  {
   "cell_type": "code",
   "execution_count": 17,
   "metadata": {},
   "outputs": [],
   "source": [
    "df_año['año'] = pd.to_numeric(df_año['año'], errors='coerce')\n",
    "df_año['año'] = df_año['año'].fillna(0).astype(int)"
   ]
  },
  {
   "cell_type": "markdown",
   "metadata": {},
   "source": [
    "Elimino la fila que tenga cero en la columna año"
   ]
  },
  {
   "cell_type": "code",
   "execution_count": 18,
   "metadata": {},
   "outputs": [],
   "source": [
    "df_año = df_año[df_año['año'] != 0]"
   ]
  },
  {
   "cell_type": "code",
   "execution_count": 19,
   "metadata": {},
   "outputs": [],
   "source": [
    "df_año = df_año.rename(columns={'id':'item_id'})"
   ]
  },
  {
   "cell_type": "code",
   "execution_count": 20,
   "metadata": {},
   "outputs": [
    {
     "name": "stdout",
     "output_type": "stream",
     "text": [
      "<class 'pandas.core.frame.DataFrame'>\n",
      "Index: 29832 entries, 88310 to 120443\n",
      "Data columns (total 2 columns):\n",
      " #   Column   Non-Null Count  Dtype  \n",
      "---  ------   --------------  -----  \n",
      " 0   item_id  29831 non-null  float64\n",
      " 1   año      29832 non-null  int32  \n",
      "dtypes: float64(1), int32(1)\n",
      "memory usage: 582.7 KB\n"
     ]
    }
   ],
   "source": [
    "df_año.info()"
   ]
  },
  {
   "cell_type": "code",
   "execution_count": 21,
   "metadata": {},
   "outputs": [],
   "source": [
    "df_año.to_csv('año.csv')"
   ]
  },
  {
   "cell_type": "markdown",
   "metadata": {},
   "source": [
    "Crearé un dataset df_horas del csv llamado horas.csv. Este dataset tiene dos columnas item_id y playtime_forever en las que puedo ver las horas jugadas por item_id es decir por cada videojuego"
   ]
  },
  {
   "cell_type": "code",
   "execution_count": 22,
   "metadata": {},
   "outputs": [],
   "source": [
    "df_horas = pd.read_csv('../Data/horas.csv')"
   ]
  },
  {
   "cell_type": "code",
   "execution_count": 23,
   "metadata": {},
   "outputs": [
    {
     "data": {
      "text/html": [
       "<div>\n",
       "<style scoped>\n",
       "    .dataframe tbody tr th:only-of-type {\n",
       "        vertical-align: middle;\n",
       "    }\n",
       "\n",
       "    .dataframe tbody tr th {\n",
       "        vertical-align: top;\n",
       "    }\n",
       "\n",
       "    .dataframe thead th {\n",
       "        text-align: right;\n",
       "    }\n",
       "</style>\n",
       "<table border=\"1\" class=\"dataframe\">\n",
       "  <thead>\n",
       "    <tr style=\"text-align: right;\">\n",
       "      <th></th>\n",
       "      <th>item_id</th>\n",
       "      <th>playtime_forever</th>\n",
       "    </tr>\n",
       "  </thead>\n",
       "  <tbody>\n",
       "    <tr>\n",
       "      <th>0</th>\n",
       "      <td>10</td>\n",
       "      <td>17386015.0</td>\n",
       "    </tr>\n",
       "    <tr>\n",
       "      <th>1</th>\n",
       "      <td>100</td>\n",
       "      <td>311999.0</td>\n",
       "    </tr>\n",
       "    <tr>\n",
       "      <th>2</th>\n",
       "      <td>10000</td>\n",
       "      <td>63046.0</td>\n",
       "    </tr>\n",
       "    <tr>\n",
       "      <th>3</th>\n",
       "      <td>1002</td>\n",
       "      <td>894.0</td>\n",
       "    </tr>\n",
       "    <tr>\n",
       "      <th>4</th>\n",
       "      <td>10040</td>\n",
       "      <td>0.0</td>\n",
       "    </tr>\n",
       "    <tr>\n",
       "      <th>...</th>\n",
       "      <td>...</td>\n",
       "      <td>...</td>\n",
       "    </tr>\n",
       "    <tr>\n",
       "      <th>10973</th>\n",
       "      <td>99890</td>\n",
       "      <td>128136.0</td>\n",
       "    </tr>\n",
       "    <tr>\n",
       "      <th>10974</th>\n",
       "      <td>9990</td>\n",
       "      <td>2110.0</td>\n",
       "    </tr>\n",
       "    <tr>\n",
       "      <th>10975</th>\n",
       "      <td>99900</td>\n",
       "      <td>17259605.0</td>\n",
       "    </tr>\n",
       "    <tr>\n",
       "      <th>10976</th>\n",
       "      <td>99910</td>\n",
       "      <td>426680.0</td>\n",
       "    </tr>\n",
       "    <tr>\n",
       "      <th>10977</th>\n",
       "      <td>99920</td>\n",
       "      <td>2344.0</td>\n",
       "    </tr>\n",
       "  </tbody>\n",
       "</table>\n",
       "<p>10978 rows × 2 columns</p>\n",
       "</div>"
      ],
      "text/plain": [
       "       item_id  playtime_forever\n",
       "0           10        17386015.0\n",
       "1          100          311999.0\n",
       "2        10000           63046.0\n",
       "3         1002             894.0\n",
       "4        10040               0.0\n",
       "...        ...               ...\n",
       "10973    99890          128136.0\n",
       "10974     9990            2110.0\n",
       "10975    99900        17259605.0\n",
       "10976    99910          426680.0\n",
       "10977    99920            2344.0\n",
       "\n",
       "[10978 rows x 2 columns]"
      ]
     },
     "execution_count": 23,
     "metadata": {},
     "output_type": "execute_result"
    }
   ],
   "source": [
    "df_horas"
   ]
  },
  {
   "cell_type": "markdown",
   "metadata": {},
   "source": [
    "Uniré los dataset df_año con el  dataset df_horas teniendo en cuenta la columna item_id"
   ]
  },
  {
   "cell_type": "code",
   "execution_count": 24,
   "metadata": {},
   "outputs": [],
   "source": [
    "df_hora_año = pd.merge(df_año, df_horas, on='item_id')"
   ]
  },
  {
   "cell_type": "code",
   "execution_count": 25,
   "metadata": {},
   "outputs": [
    {
     "data": {
      "text/html": [
       "<div>\n",
       "<style scoped>\n",
       "    .dataframe tbody tr th:only-of-type {\n",
       "        vertical-align: middle;\n",
       "    }\n",
       "\n",
       "    .dataframe tbody tr th {\n",
       "        vertical-align: top;\n",
       "    }\n",
       "\n",
       "    .dataframe thead th {\n",
       "        text-align: right;\n",
       "    }\n",
       "</style>\n",
       "<table border=\"1\" class=\"dataframe\">\n",
       "  <thead>\n",
       "    <tr style=\"text-align: right;\">\n",
       "      <th></th>\n",
       "      <th>item_id</th>\n",
       "      <th>año</th>\n",
       "      <th>playtime_forever</th>\n",
       "    </tr>\n",
       "  </thead>\n",
       "  <tbody>\n",
       "    <tr>\n",
       "      <th>0</th>\n",
       "      <td>282010.0</td>\n",
       "      <td>1997</td>\n",
       "      <td>9319.0</td>\n",
       "    </tr>\n",
       "    <tr>\n",
       "      <th>1</th>\n",
       "      <td>70.0</td>\n",
       "      <td>1998</td>\n",
       "      <td>2682852.0</td>\n",
       "    </tr>\n",
       "    <tr>\n",
       "      <th>2</th>\n",
       "      <td>1640.0</td>\n",
       "      <td>2006</td>\n",
       "      <td>27397.0</td>\n",
       "    </tr>\n",
       "    <tr>\n",
       "      <th>3</th>\n",
       "      <td>1630.0</td>\n",
       "      <td>2006</td>\n",
       "      <td>21111.0</td>\n",
       "    </tr>\n",
       "    <tr>\n",
       "      <th>4</th>\n",
       "      <td>2400.0</td>\n",
       "      <td>2006</td>\n",
       "      <td>1048156.0</td>\n",
       "    </tr>\n",
       "    <tr>\n",
       "      <th>...</th>\n",
       "      <td>...</td>\n",
       "      <td>...</td>\n",
       "      <td>...</td>\n",
       "    </tr>\n",
       "    <tr>\n",
       "      <th>8755</th>\n",
       "      <td>259340.0</td>\n",
       "      <td>2003</td>\n",
       "      <td>371.0</td>\n",
       "    </tr>\n",
       "    <tr>\n",
       "      <th>8756</th>\n",
       "      <td>30.0</td>\n",
       "      <td>2003</td>\n",
       "      <td>758991.0</td>\n",
       "    </tr>\n",
       "    <tr>\n",
       "      <th>8757</th>\n",
       "      <td>200980.0</td>\n",
       "      <td>2003</td>\n",
       "      <td>3393.0</td>\n",
       "    </tr>\n",
       "    <tr>\n",
       "      <th>8758</th>\n",
       "      <td>13230.0</td>\n",
       "      <td>2004</td>\n",
       "      <td>349119.0</td>\n",
       "    </tr>\n",
       "    <tr>\n",
       "      <th>8759</th>\n",
       "      <td>80.0</td>\n",
       "      <td>2004</td>\n",
       "      <td>2503938.0</td>\n",
       "    </tr>\n",
       "  </tbody>\n",
       "</table>\n",
       "<p>8760 rows × 3 columns</p>\n",
       "</div>"
      ],
      "text/plain": [
       "       item_id   año  playtime_forever\n",
       "0     282010.0  1997            9319.0\n",
       "1         70.0  1998         2682852.0\n",
       "2       1640.0  2006           27397.0\n",
       "3       1630.0  2006           21111.0\n",
       "4       2400.0  2006         1048156.0\n",
       "...        ...   ...               ...\n",
       "8755  259340.0  2003             371.0\n",
       "8756      30.0  2003          758991.0\n",
       "8757  200980.0  2003            3393.0\n",
       "8758   13230.0  2004          349119.0\n",
       "8759      80.0  2004         2503938.0\n",
       "\n",
       "[8760 rows x 3 columns]"
      ]
     },
     "execution_count": 25,
     "metadata": {},
     "output_type": "execute_result"
    }
   ],
   "source": [
    "df_hora_año"
   ]
  },
  {
   "cell_type": "markdown",
   "metadata": {},
   "source": [
    "Vamos a unir los dataset df_hora_año con df teniendo en cuenta item_id"
   ]
  },
  {
   "cell_type": "code",
   "execution_count": 26,
   "metadata": {},
   "outputs": [],
   "source": [
    "play = pd.merge(df, df_hora_año, on='item_id')"
   ]
  },
  {
   "cell_type": "markdown",
   "metadata": {},
   "source": [
    "Eliminaré la columna item_id"
   ]
  },
  {
   "cell_type": "code",
   "execution_count": 27,
   "metadata": {},
   "outputs": [],
   "source": [
    "#Eliminaré columnas\n",
    "play= play.drop('item_id', axis=1)"
   ]
  },
  {
   "cell_type": "code",
   "execution_count": 28,
   "metadata": {},
   "outputs": [
    {
     "data": {
      "text/html": [
       "<div>\n",
       "<style scoped>\n",
       "    .dataframe tbody tr th:only-of-type {\n",
       "        vertical-align: middle;\n",
       "    }\n",
       "\n",
       "    .dataframe tbody tr th {\n",
       "        vertical-align: top;\n",
       "    }\n",
       "\n",
       "    .dataframe thead th {\n",
       "        text-align: right;\n",
       "    }\n",
       "</style>\n",
       "<table border=\"1\" class=\"dataframe\">\n",
       "  <thead>\n",
       "    <tr style=\"text-align: right;\">\n",
       "      <th></th>\n",
       "      <th>genres</th>\n",
       "      <th>año</th>\n",
       "      <th>playtime_forever</th>\n",
       "    </tr>\n",
       "  </thead>\n",
       "  <tbody>\n",
       "    <tr>\n",
       "      <th>0</th>\n",
       "      <td>Action</td>\n",
       "      <td>1997</td>\n",
       "      <td>9319.0</td>\n",
       "    </tr>\n",
       "    <tr>\n",
       "      <th>1</th>\n",
       "      <td>Indie</td>\n",
       "      <td>1997</td>\n",
       "      <td>9319.0</td>\n",
       "    </tr>\n",
       "    <tr>\n",
       "      <th>2</th>\n",
       "      <td>Racing</td>\n",
       "      <td>1997</td>\n",
       "      <td>9319.0</td>\n",
       "    </tr>\n",
       "    <tr>\n",
       "      <th>3</th>\n",
       "      <td>Action</td>\n",
       "      <td>1998</td>\n",
       "      <td>2682852.0</td>\n",
       "    </tr>\n",
       "    <tr>\n",
       "      <th>4</th>\n",
       "      <td>Strategy</td>\n",
       "      <td>2006</td>\n",
       "      <td>27397.0</td>\n",
       "    </tr>\n",
       "    <tr>\n",
       "      <th>...</th>\n",
       "      <td>...</td>\n",
       "      <td>...</td>\n",
       "      <td>...</td>\n",
       "    </tr>\n",
       "    <tr>\n",
       "      <th>21469</th>\n",
       "      <td>Strategy</td>\n",
       "      <td>2003</td>\n",
       "      <td>3393.0</td>\n",
       "    </tr>\n",
       "    <tr>\n",
       "      <th>21470</th>\n",
       "      <td>RPG</td>\n",
       "      <td>2003</td>\n",
       "      <td>3393.0</td>\n",
       "    </tr>\n",
       "    <tr>\n",
       "      <th>21471</th>\n",
       "      <td>Indie</td>\n",
       "      <td>2003</td>\n",
       "      <td>3393.0</td>\n",
       "    </tr>\n",
       "    <tr>\n",
       "      <th>21472</th>\n",
       "      <td>Action</td>\n",
       "      <td>2004</td>\n",
       "      <td>349119.0</td>\n",
       "    </tr>\n",
       "    <tr>\n",
       "      <th>21473</th>\n",
       "      <td>Action</td>\n",
       "      <td>2004</td>\n",
       "      <td>2503938.0</td>\n",
       "    </tr>\n",
       "  </tbody>\n",
       "</table>\n",
       "<p>21474 rows × 3 columns</p>\n",
       "</div>"
      ],
      "text/plain": [
       "         genres   año  playtime_forever\n",
       "0        Action  1997            9319.0\n",
       "1         Indie  1997            9319.0\n",
       "2        Racing  1997            9319.0\n",
       "3        Action  1998         2682852.0\n",
       "4      Strategy  2006           27397.0\n",
       "...         ...   ...               ...\n",
       "21469  Strategy  2003            3393.0\n",
       "21470       RPG  2003            3393.0\n",
       "21471     Indie  2003            3393.0\n",
       "21472    Action  2004          349119.0\n",
       "21473    Action  2004         2503938.0\n",
       "\n",
       "[21474 rows x 3 columns]"
      ]
     },
     "execution_count": 28,
     "metadata": {},
     "output_type": "execute_result"
    }
   ],
   "source": [
    "play"
   ]
  },
  {
   "cell_type": "markdown",
   "metadata": {},
   "source": [
    "Agrupo los datos por genero y año"
   ]
  },
  {
   "cell_type": "code",
   "execution_count": 29,
   "metadata": {},
   "outputs": [],
   "source": [
    "playTimeGenre = play.groupby(['genres', 'año'])['playtime_forever'].sum().reset_index()\n",
    "\n"
   ]
  },
  {
   "cell_type": "markdown",
   "metadata": {},
   "source": [
    "Imprimo el dataset"
   ]
  },
  {
   "cell_type": "code",
   "execution_count": 30,
   "metadata": {},
   "outputs": [
    {
     "name": "stdout",
     "output_type": "stream",
     "text": [
      "             genres   año  playtime_forever\n",
      "0            Action  1983            3582.0\n",
      "1            Action  1984             384.0\n",
      "2            Action  1988           16243.0\n",
      "3            Action  1989             607.0\n",
      "4            Action  1990           18787.0\n",
      "..              ...   ...               ...\n",
      "338  Web Publishing  2013          335849.0\n",
      "339  Web Publishing  2014           33732.0\n",
      "340  Web Publishing  2015          348861.0\n",
      "341  Web Publishing  2016             136.0\n",
      "342  Web Publishing  2017            9713.0\n",
      "\n",
      "[343 rows x 3 columns]\n"
     ]
    }
   ],
   "source": [
    "print(playTimeGenre)"
   ]
  },
  {
   "cell_type": "markdown",
   "metadata": {},
   "source": [
    "Encuentro el año com más horas jugadas para cada genero"
   ]
  },
  {
   "cell_type": "code",
   "execution_count": 31,
   "metadata": {},
   "outputs": [],
   "source": [
    "maxHours = playTimeGenre.loc[playTimeGenre.groupby('genres')['playtime_forever'].idxmax()]\n",
    "\n"
   ]
  },
  {
   "cell_type": "markdown",
   "metadata": {},
   "source": [
    "Imprimo el resultado"
   ]
  },
  {
   "cell_type": "code",
   "execution_count": 32,
   "metadata": {},
   "outputs": [
    {
     "name": "stdout",
     "output_type": "stream",
     "text": [
      "                        genres   año  playtime_forever\n",
      "26                      Action  2012      1.099063e+09\n",
      "59                   Adventure  2011      2.243480e+08\n",
      "71    Animation &amp; Modeling  2015      1.354685e+06\n",
      "75            Audio Production  2014      4.662460e+05\n",
      "104                     Casual  2015      8.251535e+07\n",
      "109  Design &amp; Illustration  2012      1.947406e+06\n",
      "116               Early Access  2013      1.203663e+08\n",
      "124                  Education  2013      3.428040e+05\n",
      "141               Free to Play  2013      1.477287e+08\n",
      "158                      Indie  2006      4.526728e+08\n",
      "178      Massively Multiplayer  2013      1.349481e+08\n",
      "186              Photo Editing  2014      6.165900e+04\n",
      "208                        RPG  2011      2.307794e+08\n",
      "235                     Racing  2015      3.791091e+07\n",
      "257                 Simulation  2006      4.511054e+08\n",
      "273          Software Training  2014      4.233280e+05\n",
      "288                     Sports  2015      4.179597e+07\n",
      "314                   Strategy  2013      1.474435e+08\n",
      "324                  Utilities  2014      2.725654e+06\n",
      "333           Video Production  2015      1.671790e+06\n",
      "337             Web Publishing  2012      1.947406e+06\n"
     ]
    }
   ],
   "source": [
    "print(maxHours)"
   ]
  },
  {
   "cell_type": "markdown",
   "metadata": {},
   "source": [
    "Creo un DataFrame de maxHours"
   ]
  },
  {
   "cell_type": "code",
   "execution_count": 62,
   "metadata": {},
   "outputs": [],
   "source": [
    "df = pd.DataFrame(data=maxHours)"
   ]
  },
  {
   "cell_type": "markdown",
   "metadata": {},
   "source": [
    "Elimino la columna playtime_forever ya que no la necesito para el retorno de la función.\n"
   ]
  },
  {
   "cell_type": "code",
   "execution_count": 63,
   "metadata": {},
   "outputs": [],
   "source": [
    "df = df.drop('playtime_forever', axis=1)\n"
   ]
  },
  {
   "cell_type": "markdown",
   "metadata": {},
   "source": [
    "Imprimo el df"
   ]
  },
  {
   "cell_type": "code",
   "execution_count": 64,
   "metadata": {},
   "outputs": [
    {
     "name": "stdout",
     "output_type": "stream",
     "text": [
      "                        genres   año\n",
      "26                      Action  2012\n",
      "59                   Adventure  2011\n",
      "71    Animation &amp; Modeling  2015\n",
      "75            Audio Production  2014\n",
      "104                     Casual  2015\n",
      "109  Design &amp; Illustration  2012\n",
      "116               Early Access  2013\n",
      "124                  Education  2013\n",
      "141               Free to Play  2013\n",
      "158                      Indie  2006\n",
      "178      Massively Multiplayer  2013\n",
      "186              Photo Editing  2014\n",
      "208                        RPG  2011\n",
      "235                     Racing  2015\n",
      "257                 Simulation  2006\n",
      "273          Software Training  2014\n",
      "288                     Sports  2015\n",
      "314                   Strategy  2013\n",
      "324                  Utilities  2014\n",
      "333           Video Production  2015\n",
      "337             Web Publishing  2012\n"
     ]
    }
   ],
   "source": [
    "# Imprimir el resultado\n",
    "print(df)"
   ]
  },
  {
   "cell_type": "code",
   "execution_count": 75,
   "metadata": {},
   "outputs": [
    {
     "data": {
      "text/plain": [
       "genres    string[python]\n",
       "año                int32\n",
       "dtype: object"
      ]
     },
     "execution_count": 75,
     "metadata": {},
     "output_type": "execute_result"
    }
   ],
   "source": [
    "df.astype({'genres':'string'}).dtypes"
   ]
  },
  {
   "cell_type": "markdown",
   "metadata": {},
   "source": [
    "Guardaré el DataFrame en un csv"
   ]
  },
  {
   "cell_type": "code",
   "execution_count": 76,
   "metadata": {},
   "outputs": [],
   "source": [
    "df.to_csv('playTimeGenre.csv', index= False)"
   ]
  },
  {
   "cell_type": "markdown",
   "metadata": {},
   "source": [
    "Crearé la función"
   ]
  },
  {
   "cell_type": "code",
   "execution_count": 38,
   "metadata": {},
   "outputs": [],
   "source": [
    "def PlayTimeGenre(genres):\n",
    "    genero = df[df['genres'] == genres]\n",
    "\n",
    "    if len(genero) == 0:\n",
    "        return 'El género no existe'\n",
    "\n",
    "    año = genero['año'].tolist()[0]\n",
    "\n",
    "    return {'Año de lanzamiento con más horas jugadas para género': genres, 'año': año}"
   ]
  },
  {
   "cell_type": "markdown",
   "metadata": {},
   "source": [
    "Pruebo la función"
   ]
  },
  {
   "cell_type": "code",
   "execution_count": 39,
   "metadata": {},
   "outputs": [
    {
     "name": "stdout",
     "output_type": "stream",
     "text": [
      "{'Año de lanzamiento con más horas jugadas para género': 'Simulation', 'año': 2006}\n"
     ]
    }
   ],
   "source": [
    "print(PlayTimeGenre('Simulation'))"
   ]
  }
 ],
 "metadata": {
  "kernelspec": {
   "display_name": "Python 3",
   "language": "python",
   "name": "python3"
  },
  "language_info": {
   "codemirror_mode": {
    "name": "ipython",
    "version": 3
   },
   "file_extension": ".py",
   "mimetype": "text/x-python",
   "name": "python",
   "nbconvert_exporter": "python",
   "pygments_lexer": "ipython3",
   "version": "3.10.11"
  }
 },
 "nbformat": 4,
 "nbformat_minor": 2
}
