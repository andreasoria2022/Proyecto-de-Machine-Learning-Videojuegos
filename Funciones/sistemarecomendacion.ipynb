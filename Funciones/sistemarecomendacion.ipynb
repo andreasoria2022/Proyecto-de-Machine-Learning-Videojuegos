{
 "cells": [
  {
   "cell_type": "markdown",
   "metadata": {},
   "source": [
    "Necesito crear un sistema de recomedación que introduzaca un id y retorne 5 videojuegos recomendados"
   ]
  },
  {
   "cell_type": "code",
   "execution_count": 60,
   "metadata": {},
   "outputs": [],
   "source": [
    "# Cargar el conjunto de datos\n",
    "df1 = pd.read_csv('../Data/games.csv')\n",
    "df = df1[['genres', 'app_name','tags','id']].copy()\n",
    "df = df.dropna(subset=['id'])\n",
    "df['id'] = df['id'].astype(int)\n",
    "\n",
    "# Preprocesar los datos\n",
    "df = df.dropna()\n",
    "\n",
    "# Eliminar los corchetes de la columna 'genres'\n",
    "df['genres'] = df['genres'].apply(lambda x: ', '.join(x)).str.replace('[','').str.replace(']','')\n",
    "\n",
    "# Crea una instancia del vectorizador TF-IDF\n",
    "vectorizer = TfidfVectorizer()\n",
    "\n",
    "# Aplica TF-IDF a las características\n",
    "X = vectorizer.fit_transform(df[['genres', 'app_name', 'tags']].apply(lambda x: ' '.join(x), axis=1))\n",
    "\n",
    "# Calcula la similitud del coseno entre los vectores resultantes\n",
    "cosine_sim = cosine_similarity(X)\n",
    "\n",
    "def recommend_games(target_game_id, similarity_matrix, game_data, num_recommendations=5):\n",
    "    # Obtener el índice del juego que coincide con el ID\n",
    "    idx = game_data[game_data['id'] == target_game_id].index[0]\n",
    "\n",
    "    # Obtener las puntuaciones de similitud del juego con todos los demás juegos\n",
    "    sim_scores = list(enumerate(similarity_matrix[idx]))\n",
    "\n",
    "    # Ordenar los juegos según las puntuaciones de similitud\n",
    "    sim_scores = sorted(sim_scores, key=lambda x: x[1], reverse=True)\n",
    "\n",
    "    # Obtener las recomendaciones\n",
    "    sim_scores = sim_scores[1:num_recommendations+1]\n",
    "    game_indices = [i[0] for i in sim_scores]\n",
    "    return game_data['app_name'].iloc[game_indices].tolist()\n",
    "\n",
    "    # Crear un DataFrame vacío para almacenar las recomendaciones\n",
    "    recommendations_df = pd.DataFrame(columns=['id', 'recomendaciones'])\n",
    "\n",
    "    # Iterar sobre todos los IDs de los juegos y obtener las recomendaciones\n",
    "    for game_id in df['id']:\n",
    "        recommendations = recommend_games(game_id, cosine_sim, df)\n",
    "        recommendations_df = pd.concat([recommendations_df, pd.DataFrame({'id': game_id, 'recomendaciones': [recommendations]})])\n",
    "\n",
    "    "
   ]
  },
  {
   "cell_type": "code",
   "execution_count": 61,
   "metadata": {},
   "outputs": [
    {
     "data": {
      "text/html": [
       "<div>\n",
       "<style scoped>\n",
       "    .dataframe tbody tr th:only-of-type {\n",
       "        vertical-align: middle;\n",
       "    }\n",
       "\n",
       "    .dataframe tbody tr th {\n",
       "        vertical-align: top;\n",
       "    }\n",
       "\n",
       "    .dataframe thead th {\n",
       "        text-align: right;\n",
       "    }\n",
       "</style>\n",
       "<table border=\"1\" class=\"dataframe\">\n",
       "  <thead>\n",
       "    <tr style=\"text-align: right;\">\n",
       "      <th></th>\n",
       "      <th>id</th>\n",
       "      <th>recomendaciones</th>\n",
       "    </tr>\n",
       "  </thead>\n",
       "  <tbody>\n",
       "    <tr>\n",
       "      <th>0</th>\n",
       "      <td>761140</td>\n",
       "      <td>[Summoner, Trapped Summoner, I'm Lost, Dungeon...</td>\n",
       "    </tr>\n",
       "    <tr>\n",
       "      <th>0</th>\n",
       "      <td>643980</td>\n",
       "      <td>[Children of Zodiarcs, Infinity Wars: Animated...</td>\n",
       "    </tr>\n",
       "    <tr>\n",
       "      <th>0</th>\n",
       "      <td>670290</td>\n",
       "      <td>[3D Pool, Pure Pool, Pool Nation FX Lite, Virt...</td>\n",
       "    </tr>\n",
       "    <tr>\n",
       "      <th>0</th>\n",
       "      <td>767400</td>\n",
       "      <td>[D.W.A.R.F.S., Project: R.E.B.O.O.T 2, Project...</td>\n",
       "    </tr>\n",
       "    <tr>\n",
       "      <th>0</th>\n",
       "      <td>772540</td>\n",
       "      <td>[SNOW - All Access Legend Pass, SNOW - All Acc...</td>\n",
       "    </tr>\n",
       "    <tr>\n",
       "      <th>...</th>\n",
       "      <td>...</td>\n",
       "      <td>...</td>\n",
       "    </tr>\n",
       "    <tr>\n",
       "      <th>0</th>\n",
       "      <td>299540</td>\n",
       "      <td>[Land It!, Slash It, Land it Rocket, Slash It ...</td>\n",
       "    </tr>\n",
       "    <tr>\n",
       "      <th>0</th>\n",
       "      <td>305200</td>\n",
       "      <td>[Colony, Colony, Mars Colony:Challenger, Aven ...</td>\n",
       "    </tr>\n",
       "    <tr>\n",
       "      <th>0</th>\n",
       "      <td>307420</td>\n",
       "      <td>[LOGistICAL, Africa Hunting, LOGistICAL: Japan...</td>\n",
       "    </tr>\n",
       "    <tr>\n",
       "      <th>0</th>\n",
       "      <td>304140</td>\n",
       "      <td>[Roads of Rome 3, Roads of Rome 2, Roads of Ro...</td>\n",
       "    </tr>\n",
       "    <tr>\n",
       "      <th>0</th>\n",
       "      <td>280460</td>\n",
       "      <td>[EXIT, EXIT 3 - Painter, One way to exit, N0-E...</td>\n",
       "    </tr>\n",
       "  </tbody>\n",
       "</table>\n",
       "<p>25593 rows × 2 columns</p>\n",
       "</div>"
      ],
      "text/plain": [
       "        id                                    recomendaciones\n",
       "0   761140  [Summoner, Trapped Summoner, I'm Lost, Dungeon...\n",
       "0   643980  [Children of Zodiarcs, Infinity Wars: Animated...\n",
       "0   670290  [3D Pool, Pure Pool, Pool Nation FX Lite, Virt...\n",
       "0   767400  [D.W.A.R.F.S., Project: R.E.B.O.O.T 2, Project...\n",
       "0   772540  [SNOW - All Access Legend Pass, SNOW - All Acc...\n",
       "..     ...                                                ...\n",
       "0   299540  [Land It!, Slash It, Land it Rocket, Slash It ...\n",
       "0   305200  [Colony, Colony, Mars Colony:Challenger, Aven ...\n",
       "0   307420  [LOGistICAL, Africa Hunting, LOGistICAL: Japan...\n",
       "0   304140  [Roads of Rome 3, Roads of Rome 2, Roads of Ro...\n",
       "0   280460  [EXIT, EXIT 3 - Painter, One way to exit, N0-E...\n",
       "\n",
       "[25593 rows x 2 columns]"
      ]
     },
     "execution_count": 61,
     "metadata": {},
     "output_type": "execute_result"
    }
   ],
   "source": [
    "recommendations_df"
   ]
  },
  {
   "cell_type": "code",
   "execution_count": 59,
   "metadata": {},
   "outputs": [],
   "source": [
    "recommendations_df.to_csv('recomendacion.csv', index=False)"
   ]
  },
  {
   "cell_type": "code",
   "execution_count": 62,
   "metadata": {},
   "outputs": [],
   "source": [
    "df_recomendacion =pd.read_csv('recomendacion.csv')"
   ]
  },
  {
   "cell_type": "code",
   "execution_count": null,
   "metadata": {},
   "outputs": [],
   "source": [
    "def get_recommendations(game_id):\n",
    "    # Cargar el archivo CSV con las recomendaciones\n",
    "    recommendations_df = pd.read_csv('recomendaciones.csv')\n",
    "\n",
    "    # Obtener las recomendaciones para el ID especificado\n",
    "    recommendations = recommendations_df[recommendations_df['id'] == game_id]['recomendaciones'].iloc[0]\n",
    "\n",
    "    return recommendations"
   ]
  }
 ],
 "metadata": {
  "kernelspec": {
   "display_name": "Python 3",
   "language": "python",
   "name": "python3"
  },
  "language_info": {
   "codemirror_mode": {
    "name": "ipython",
    "version": 3
   },
   "file_extension": ".py",
   "mimetype": "text/x-python",
   "name": "python",
   "nbconvert_exporter": "python",
   "pygments_lexer": "ipython3",
   "version": "3.10.11"
  }
 },
 "nbformat": 4,
 "nbformat_minor": 2
}
